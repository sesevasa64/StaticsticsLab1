{
 "cells": [
  {
   "cell_type": "code",
   "execution_count": 90,
   "metadata": {},
   "outputs": [],
   "source": [
    "import math\n",
    "import numpy as np\n",
    "import pandas as pd\n",
    "import matplotlib.pyplot as plt\n",
    "from scipy.stats import norm"
   ]
  },
  {
   "cell_type": "code",
   "execution_count": 91,
   "metadata": {},
   "outputs": [],
   "source": [
    "data = np.array([\n",
    "    -0.011, 0.933, 0.874, 0.871, 0.931, 0.833, 1.911, 1.533, 1.011, -0.022,\n",
    "     1.211, 1.333, 1.398, 1.483, 1.231, 1.293, 1.392, 1.301, -0.091, 1.481,\n",
    "     1.611, 1.693, 1.491, 1.300, 1.222, 1.520, 1.109, 1.518, 1.116, 1.501,\n",
    "     0.993, 1.519, -0.101, 1.815, 1.617, 1.453, 1.120, 1.488, 1.319, 1.491,\n",
    "     1.217, 1.492, 1.018, 1.913\n",
    "])"
   ]
  },
  {
   "cell_type": "code",
   "execution_count": 92,
   "metadata": {},
   "outputs": [
    {
     "name": "stdout",
     "output_type": "stream",
     "text": [
      "44\n"
     ]
    }
   ],
   "source": [
    "# Размер\n",
    "n = data.size\n",
    "print(n)"
   ]
  },
  {
   "cell_type": "code",
   "execution_count": 93,
   "metadata": {},
   "outputs": [
    {
     "name": "stdout",
     "output_type": "stream",
     "text": [
      "[-0.101 -0.091 -0.022 -0.011  0.833  0.871  0.874  0.931  0.933  0.993\n",
      "  1.011  1.018  1.109  1.116  1.12   1.211  1.217  1.222  1.231  1.293\n",
      "  1.3    1.301  1.319  1.333  1.392  1.398  1.453  1.481  1.483  1.488\n",
      "  1.491  1.491  1.492  1.501  1.518  1.519  1.52   1.533  1.611  1.617\n",
      "  1.693  1.815  1.911  1.913]\n"
     ]
    }
   ],
   "source": [
    "# Сортировка\n",
    "data.sort()\n",
    "print(data)"
   ]
  },
  {
   "cell_type": "code",
   "execution_count": 94,
   "metadata": {},
   "outputs": [
    {
     "name": "stdout",
     "output_type": "stream",
     "text": [
      "min = -0.101\n",
      "max = 1.913\n"
     ]
    }
   ],
   "source": [
    "# Минимум, максимум\n",
    "x_min =  data.min()\n",
    "x_max =  data.max()\n",
    "print(f\"min = {x_min}\")\n",
    "print(f\"max = {x_max}\")"
   ]
  },
  {
   "cell_type": "code",
   "execution_count": 95,
   "metadata": {},
   "outputs": [
    {
     "name": "stdout",
     "output_type": "stream",
     "text": [
      "k = 6\n"
     ]
    }
   ],
   "source": [
    "# Находим размер интервала\n",
    "k = int(1 + 3.322 * np.log10(n))\n",
    "# При k = 4 гипотеза подтверждается\n",
    "print(f\"k = {k}\")"
   ]
  },
  {
   "cell_type": "code",
   "execution_count": 96,
   "metadata": {},
   "outputs": [
    {
     "name": "stdout",
     "output_type": "stream",
     "text": [
      "h = 0.3356666666666667\n"
     ]
    }
   ],
   "source": [
    "# Находим ширину интервала\n",
    "h = (x_max - x_min) / k\n",
    "print(f\"h = {h}\")"
   ]
  },
  {
   "cell_type": "code",
   "execution_count": 97,
   "metadata": {},
   "outputs": [],
   "source": [
    "# Границы интервалов\n",
    "left = [x_min + i * h for i in range(k)]\n",
    "right = [x_min + (i + 1) * h for i in range(k)]"
   ]
  },
  {
   "cell_type": "code",
   "execution_count": 98,
   "metadata": {},
   "outputs": [
    {
     "data": {
      "text/html": [
       "<div>\n",
       "<style scoped>\n",
       "    .dataframe tbody tr th:only-of-type {\n",
       "        vertical-align: middle;\n",
       "    }\n",
       "\n",
       "    .dataframe tbody tr th {\n",
       "        vertical-align: top;\n",
       "    }\n",
       "\n",
       "    .dataframe thead th {\n",
       "        text-align: right;\n",
       "    }\n",
       "</style>\n",
       "<table border=\"1\" class=\"dataframe\">\n",
       "  <thead>\n",
       "    <tr style=\"text-align: right;\">\n",
       "      <th></th>\n",
       "      <th>Левая граница</th>\n",
       "      <th>Правая граница</th>\n",
       "    </tr>\n",
       "  </thead>\n",
       "  <tbody>\n",
       "    <tr>\n",
       "      <th>0</th>\n",
       "      <td>-0.101000</td>\n",
       "      <td>0.234667</td>\n",
       "    </tr>\n",
       "    <tr>\n",
       "      <th>1</th>\n",
       "      <td>0.234667</td>\n",
       "      <td>0.570333</td>\n",
       "    </tr>\n",
       "    <tr>\n",
       "      <th>2</th>\n",
       "      <td>0.570333</td>\n",
       "      <td>0.906000</td>\n",
       "    </tr>\n",
       "    <tr>\n",
       "      <th>3</th>\n",
       "      <td>0.906000</td>\n",
       "      <td>1.241667</td>\n",
       "    </tr>\n",
       "    <tr>\n",
       "      <th>4</th>\n",
       "      <td>1.241667</td>\n",
       "      <td>1.577333</td>\n",
       "    </tr>\n",
       "    <tr>\n",
       "      <th>5</th>\n",
       "      <td>1.577333</td>\n",
       "      <td>1.913000</td>\n",
       "    </tr>\n",
       "  </tbody>\n",
       "</table>\n",
       "</div>"
      ],
      "text/plain": [
       "   Левая граница  Правая граница\n",
       "0      -0.101000        0.234667\n",
       "1       0.234667        0.570333\n",
       "2       0.570333        0.906000\n",
       "3       0.906000        1.241667\n",
       "4       1.241667        1.577333\n",
       "5       1.577333        1.913000"
      ]
     },
     "execution_count": 98,
     "metadata": {},
     "output_type": "execute_result"
    }
   ],
   "source": [
    "df = pd.DataFrame({\"Левая граница\": left, \"Правая граница\": right})\n",
    "df"
   ]
  },
  {
   "cell_type": "code",
   "execution_count": 99,
   "metadata": {},
   "outputs": [
    {
     "data": {
      "text/html": [
       "<div>\n",
       "<style scoped>\n",
       "    .dataframe tbody tr th:only-of-type {\n",
       "        vertical-align: middle;\n",
       "    }\n",
       "\n",
       "    .dataframe tbody tr th {\n",
       "        vertical-align: top;\n",
       "    }\n",
       "\n",
       "    .dataframe thead th {\n",
       "        text-align: right;\n",
       "    }\n",
       "</style>\n",
       "<table border=\"1\" class=\"dataframe\">\n",
       "  <thead>\n",
       "    <tr style=\"text-align: right;\">\n",
       "      <th></th>\n",
       "      <th>Левая граница</th>\n",
       "      <th>Правая граница</th>\n",
       "      <th>Частоты</th>\n",
       "    </tr>\n",
       "  </thead>\n",
       "  <tbody>\n",
       "    <tr>\n",
       "      <th>0</th>\n",
       "      <td>-0.101000</td>\n",
       "      <td>0.234667</td>\n",
       "      <td>4</td>\n",
       "    </tr>\n",
       "    <tr>\n",
       "      <th>1</th>\n",
       "      <td>0.234667</td>\n",
       "      <td>0.570333</td>\n",
       "      <td>0</td>\n",
       "    </tr>\n",
       "    <tr>\n",
       "      <th>2</th>\n",
       "      <td>0.570333</td>\n",
       "      <td>0.906000</td>\n",
       "      <td>3</td>\n",
       "    </tr>\n",
       "    <tr>\n",
       "      <th>3</th>\n",
       "      <td>0.906000</td>\n",
       "      <td>1.241667</td>\n",
       "      <td>12</td>\n",
       "    </tr>\n",
       "    <tr>\n",
       "      <th>4</th>\n",
       "      <td>1.241667</td>\n",
       "      <td>1.577333</td>\n",
       "      <td>19</td>\n",
       "    </tr>\n",
       "    <tr>\n",
       "      <th>5</th>\n",
       "      <td>1.577333</td>\n",
       "      <td>1.913000</td>\n",
       "      <td>6</td>\n",
       "    </tr>\n",
       "  </tbody>\n",
       "</table>\n",
       "</div>"
      ],
      "text/plain": [
       "   Левая граница  Правая граница  Частоты\n",
       "0      -0.101000        0.234667        4\n",
       "1       0.234667        0.570333        0\n",
       "2       0.570333        0.906000        3\n",
       "3       0.906000        1.241667       12\n",
       "4       1.241667        1.577333       19\n",
       "5       1.577333        1.913000        6"
      ]
     },
     "execution_count": 99,
     "metadata": {},
     "output_type": "execute_result"
    }
   ],
   "source": [
    "def findIdx(val, right, h):\n",
    "    return int(np.ceil((val - right) / h))\n",
    "\n",
    "def getFrequency(data, right, k, h):\n",
    "    i = 0\n",
    "    frequency = [0] * k\n",
    "    for val in data:\n",
    "        if val >= right[i]:\n",
    "            i += findIdx(val, right[i], h)\n",
    "        frequency[i] += 1\n",
    "    return frequency\n",
    "\n",
    "# Нахождение частот\n",
    "frequency = getFrequency(data, right, k, h)\n",
    "df[\"Частоты\"] = frequency\n",
    "df"
   ]
  },
  {
   "cell_type": "code",
   "execution_count": 100,
   "metadata": {},
   "outputs": [
    {
     "data": {
      "text/html": [
       "<div>\n",
       "<style scoped>\n",
       "    .dataframe tbody tr th:only-of-type {\n",
       "        vertical-align: middle;\n",
       "    }\n",
       "\n",
       "    .dataframe tbody tr th {\n",
       "        vertical-align: top;\n",
       "    }\n",
       "\n",
       "    .dataframe thead th {\n",
       "        text-align: right;\n",
       "    }\n",
       "</style>\n",
       "<table border=\"1\" class=\"dataframe\">\n",
       "  <thead>\n",
       "    <tr style=\"text-align: right;\">\n",
       "      <th></th>\n",
       "      <th>Левая граница</th>\n",
       "      <th>Правая граница</th>\n",
       "      <th>Частоты</th>\n",
       "      <th>Относительные частоты</th>\n",
       "    </tr>\n",
       "  </thead>\n",
       "  <tbody>\n",
       "    <tr>\n",
       "      <th>0</th>\n",
       "      <td>-0.101000</td>\n",
       "      <td>0.234667</td>\n",
       "      <td>4</td>\n",
       "      <td>0.090909</td>\n",
       "    </tr>\n",
       "    <tr>\n",
       "      <th>1</th>\n",
       "      <td>0.234667</td>\n",
       "      <td>0.570333</td>\n",
       "      <td>0</td>\n",
       "      <td>0.000000</td>\n",
       "    </tr>\n",
       "    <tr>\n",
       "      <th>2</th>\n",
       "      <td>0.570333</td>\n",
       "      <td>0.906000</td>\n",
       "      <td>3</td>\n",
       "      <td>0.068182</td>\n",
       "    </tr>\n",
       "    <tr>\n",
       "      <th>3</th>\n",
       "      <td>0.906000</td>\n",
       "      <td>1.241667</td>\n",
       "      <td>12</td>\n",
       "      <td>0.272727</td>\n",
       "    </tr>\n",
       "    <tr>\n",
       "      <th>4</th>\n",
       "      <td>1.241667</td>\n",
       "      <td>1.577333</td>\n",
       "      <td>19</td>\n",
       "      <td>0.431818</td>\n",
       "    </tr>\n",
       "    <tr>\n",
       "      <th>5</th>\n",
       "      <td>1.577333</td>\n",
       "      <td>1.913000</td>\n",
       "      <td>6</td>\n",
       "      <td>0.136364</td>\n",
       "    </tr>\n",
       "  </tbody>\n",
       "</table>\n",
       "</div>"
      ],
      "text/plain": [
       "   Левая граница  Правая граница  Частоты  Относительные частоты\n",
       "0      -0.101000        0.234667        4               0.090909\n",
       "1       0.234667        0.570333        0               0.000000\n",
       "2       0.570333        0.906000        3               0.068182\n",
       "3       0.906000        1.241667       12               0.272727\n",
       "4       1.241667        1.577333       19               0.431818\n",
       "5       1.577333        1.913000        6               0.136364"
      ]
     },
     "execution_count": 100,
     "metadata": {},
     "output_type": "execute_result"
    }
   ],
   "source": [
    "def getRelativeFrequency(frequency, n):\n",
    "    return [val / n for val in frequency]\n",
    "\n",
    "# Нахождение относительных частот\n",
    "relative_frequency = getRelativeFrequency(frequency, n)\n",
    "df[\"Относительные частоты\"] = relative_frequency\n",
    "df"
   ]
  },
  {
   "cell_type": "code",
   "execution_count": 101,
   "metadata": {},
   "outputs": [
    {
     "data": {
      "text/html": [
       "<div>\n",
       "<style scoped>\n",
       "    .dataframe tbody tr th:only-of-type {\n",
       "        vertical-align: middle;\n",
       "    }\n",
       "\n",
       "    .dataframe tbody tr th {\n",
       "        vertical-align: top;\n",
       "    }\n",
       "\n",
       "    .dataframe thead th {\n",
       "        text-align: right;\n",
       "    }\n",
       "</style>\n",
       "<table border=\"1\" class=\"dataframe\">\n",
       "  <thead>\n",
       "    <tr style=\"text-align: right;\">\n",
       "      <th></th>\n",
       "      <th>Левая граница</th>\n",
       "      <th>Правая граница</th>\n",
       "      <th>Частоты</th>\n",
       "      <th>Относительные частоты</th>\n",
       "      <th>Среднее значение</th>\n",
       "    </tr>\n",
       "  </thead>\n",
       "  <tbody>\n",
       "    <tr>\n",
       "      <th>0</th>\n",
       "      <td>-0.101000</td>\n",
       "      <td>0.234667</td>\n",
       "      <td>4</td>\n",
       "      <td>0.090909</td>\n",
       "      <td>0.066833</td>\n",
       "    </tr>\n",
       "    <tr>\n",
       "      <th>1</th>\n",
       "      <td>0.234667</td>\n",
       "      <td>0.570333</td>\n",
       "      <td>0</td>\n",
       "      <td>0.000000</td>\n",
       "      <td>0.402500</td>\n",
       "    </tr>\n",
       "    <tr>\n",
       "      <th>2</th>\n",
       "      <td>0.570333</td>\n",
       "      <td>0.906000</td>\n",
       "      <td>3</td>\n",
       "      <td>0.068182</td>\n",
       "      <td>0.738167</td>\n",
       "    </tr>\n",
       "    <tr>\n",
       "      <th>3</th>\n",
       "      <td>0.906000</td>\n",
       "      <td>1.241667</td>\n",
       "      <td>12</td>\n",
       "      <td>0.272727</td>\n",
       "      <td>1.073833</td>\n",
       "    </tr>\n",
       "    <tr>\n",
       "      <th>4</th>\n",
       "      <td>1.241667</td>\n",
       "      <td>1.577333</td>\n",
       "      <td>19</td>\n",
       "      <td>0.431818</td>\n",
       "      <td>1.409500</td>\n",
       "    </tr>\n",
       "    <tr>\n",
       "      <th>5</th>\n",
       "      <td>1.577333</td>\n",
       "      <td>1.913000</td>\n",
       "      <td>6</td>\n",
       "      <td>0.136364</td>\n",
       "      <td>1.745167</td>\n",
       "    </tr>\n",
       "  </tbody>\n",
       "</table>\n",
       "</div>"
      ],
      "text/plain": [
       "   Левая граница  Правая граница  Частоты  Относительные частоты  \\\n",
       "0      -0.101000        0.234667        4               0.090909   \n",
       "1       0.234667        0.570333        0               0.000000   \n",
       "2       0.570333        0.906000        3               0.068182   \n",
       "3       0.906000        1.241667       12               0.272727   \n",
       "4       1.241667        1.577333       19               0.431818   \n",
       "5       1.577333        1.913000        6               0.136364   \n",
       "\n",
       "   Среднее значение  \n",
       "0          0.066833  \n",
       "1          0.402500  \n",
       "2          0.738167  \n",
       "3          1.073833  \n",
       "4          1.409500  \n",
       "5          1.745167  "
      ]
     },
     "execution_count": 101,
     "metadata": {},
     "output_type": "execute_result"
    }
   ],
   "source": [
    "def getMiddleValue(left, right):\n",
    "    return [(l + r) / 2 for l, r in zip(left, right)]\n",
    "\n",
    "# Средние значения\n",
    "middle = getMiddleValue(left, right)\n",
    "df[\"Среднее значение\"] = middle\n",
    "df"
   ]
  },
  {
   "cell_type": "code",
   "execution_count": 102,
   "metadata": {},
   "outputs": [
    {
     "name": "stdout",
     "output_type": "stream",
     "text": [
      "Expected value = 1.1958939393939396\n"
     ]
    }
   ],
   "source": [
    "def getExpectedValue(data, frequency, n):\n",
    "    return np.sum([val * freq for val, freq in zip(data, frequency)]) / n\n",
    "\n",
    "# Мат. ожидание\n",
    "expected_value = getExpectedValue(middle, frequency, n)\n",
    "print(f\"Expected value = {expected_value}\")"
   ]
  },
  {
   "cell_type": "code",
   "execution_count": 103,
   "metadata": {},
   "outputs": [
    {
     "name": "stdout",
     "output_type": "stream",
     "text": [
      "Dispersion = 0.19508105188246108\n",
      "Corrected dispersion = 0.19961782053089042\n",
      "Deviation = 0.44678610154176734\n"
     ]
    }
   ],
   "source": [
    "def getDispersion(data, frequency, expected_value, n):\n",
    "    return np.sum([freq * (val - expected_value) ** 2 for val, freq in zip(data, frequency)]) / n\n",
    "\n",
    "dispersion = getDispersion(middle, frequency, expected_value, n)\n",
    "corrected_dispersion = n / (n - 1) * dispersion\n",
    "std_deviation = np.sqrt(corrected_dispersion)\n",
    "print(f\"Dispersion = {dispersion}\")\n",
    "print(f\"Corrected dispersion = {corrected_dispersion}\")\n",
    "print(f\"Deviation = {std_deviation}\")"
   ]
  },
  {
   "cell_type": "code",
   "execution_count": 76,
   "metadata": {},
   "outputs": [
    {
     "data": {
      "text/html": [
       "<div>\n",
       "<style scoped>\n",
       "    .dataframe tbody tr th:only-of-type {\n",
       "        vertical-align: middle;\n",
       "    }\n",
       "\n",
       "    .dataframe tbody tr th {\n",
       "        vertical-align: top;\n",
       "    }\n",
       "\n",
       "    .dataframe thead th {\n",
       "        text-align: right;\n",
       "    }\n",
       "</style>\n",
       "<table border=\"1\" class=\"dataframe\">\n",
       "  <thead>\n",
       "    <tr style=\"text-align: right;\">\n",
       "      <th></th>\n",
       "      <th>Левая граница</th>\n",
       "      <th>Правая граница</th>\n",
       "      <th>Частоты</th>\n",
       "      <th>Относительные частоты</th>\n",
       "      <th>Среднее значение</th>\n",
       "      <th>Плотность</th>\n",
       "    </tr>\n",
       "  </thead>\n",
       "  <tbody>\n",
       "    <tr>\n",
       "      <th>0</th>\n",
       "      <td>-0.101000</td>\n",
       "      <td>0.234667</td>\n",
       "      <td>4</td>\n",
       "      <td>0.090909</td>\n",
       "      <td>0.066833</td>\n",
       "      <td>11.916584</td>\n",
       "    </tr>\n",
       "    <tr>\n",
       "      <th>1</th>\n",
       "      <td>0.234667</td>\n",
       "      <td>0.570333</td>\n",
       "      <td>0</td>\n",
       "      <td>0.000000</td>\n",
       "      <td>0.402500</td>\n",
       "      <td>0.000000</td>\n",
       "    </tr>\n",
       "    <tr>\n",
       "      <th>2</th>\n",
       "      <td>0.570333</td>\n",
       "      <td>0.906000</td>\n",
       "      <td>3</td>\n",
       "      <td>0.068182</td>\n",
       "      <td>0.738167</td>\n",
       "      <td>8.937438</td>\n",
       "    </tr>\n",
       "    <tr>\n",
       "      <th>3</th>\n",
       "      <td>0.906000</td>\n",
       "      <td>1.241667</td>\n",
       "      <td>12</td>\n",
       "      <td>0.272727</td>\n",
       "      <td>1.073833</td>\n",
       "      <td>35.749752</td>\n",
       "    </tr>\n",
       "    <tr>\n",
       "      <th>4</th>\n",
       "      <td>1.241667</td>\n",
       "      <td>1.577333</td>\n",
       "      <td>19</td>\n",
       "      <td>0.431818</td>\n",
       "      <td>1.409500</td>\n",
       "      <td>56.603774</td>\n",
       "    </tr>\n",
       "    <tr>\n",
       "      <th>5</th>\n",
       "      <td>1.577333</td>\n",
       "      <td>1.913000</td>\n",
       "      <td>6</td>\n",
       "      <td>0.136364</td>\n",
       "      <td>1.745167</td>\n",
       "      <td>17.874876</td>\n",
       "    </tr>\n",
       "  </tbody>\n",
       "</table>\n",
       "</div>"
      ],
      "text/plain": [
       "   Левая граница  Правая граница  Частоты  Относительные частоты  \\\n",
       "0      -0.101000        0.234667        4               0.090909   \n",
       "1       0.234667        0.570333        0               0.000000   \n",
       "2       0.570333        0.906000        3               0.068182   \n",
       "3       0.906000        1.241667       12               0.272727   \n",
       "4       1.241667        1.577333       19               0.431818   \n",
       "5       1.577333        1.913000        6               0.136364   \n",
       "\n",
       "   Среднее значение  Плотность  \n",
       "0          0.066833  11.916584  \n",
       "1          0.402500   0.000000  \n",
       "2          0.738167   8.937438  \n",
       "3          1.073833  35.749752  \n",
       "4          1.409500  56.603774  \n",
       "5          1.745167  17.874876  "
      ]
     },
     "execution_count": 76,
     "metadata": {},
     "output_type": "execute_result"
    }
   ],
   "source": [
    "def getDensity(frequency, h):\n",
    "    return [val / h for val in frequency]\n",
    "\n",
    "density = getDensity(frequency, h)\n",
    "df[\"Плотность\"] = density\n",
    "df"
   ]
  },
  {
   "cell_type": "code",
   "execution_count": 77,
   "metadata": {},
   "outputs": [
    {
     "data": {
      "image/png": "[encoded data removed]",
      "text/plain": [
       "<Figure size 432x288 with 1 Axes>"
      ]
     },
     "metadata": {
      "needs_background": "light"
     },
     "output_type": "display_data"
    }
   ],
   "source": [
    "plt.bar(df[\"Среднее значение\"], df[\"Плотность\"])\n",
    "plt.show()"
   ]
  },
  {
   "cell_type": "code",
   "execution_count": 78,
   "metadata": {},
   "outputs": [
    {
     "data": {
      "text/html": [
       "<div>\n",
       "<style scoped>\n",
       "    .dataframe tbody tr th:only-of-type {\n",
       "        vertical-align: middle;\n",
       "    }\n",
       "\n",
       "    .dataframe tbody tr th {\n",
       "        vertical-align: top;\n",
       "    }\n",
       "\n",
       "    .dataframe thead th {\n",
       "        text-align: right;\n",
       "    }\n",
       "</style>\n",
       "<table border=\"1\" class=\"dataframe\">\n",
       "  <thead>\n",
       "    <tr style=\"text-align: right;\">\n",
       "      <th></th>\n",
       "      <th>Левая граница</th>\n",
       "      <th>Правая граница</th>\n",
       "      <th>Частоты</th>\n",
       "      <th>Относительные частоты</th>\n",
       "      <th>Среднее значение</th>\n",
       "      <th>Плотность</th>\n",
       "    </tr>\n",
       "  </thead>\n",
       "  <tbody>\n",
       "    <tr>\n",
       "      <th>0</th>\n",
       "      <td>-0.101000</td>\n",
       "      <td>0.906000</td>\n",
       "      <td>7</td>\n",
       "      <td>0.159091</td>\n",
       "      <td>0.402500</td>\n",
       "      <td>20.854022</td>\n",
       "    </tr>\n",
       "    <tr>\n",
       "      <th>1</th>\n",
       "      <td>0.906000</td>\n",
       "      <td>1.241667</td>\n",
       "      <td>12</td>\n",
       "      <td>0.272727</td>\n",
       "      <td>1.073833</td>\n",
       "      <td>35.749752</td>\n",
       "    </tr>\n",
       "    <tr>\n",
       "      <th>2</th>\n",
       "      <td>1.241667</td>\n",
       "      <td>1.577333</td>\n",
       "      <td>19</td>\n",
       "      <td>0.431818</td>\n",
       "      <td>1.409500</td>\n",
       "      <td>56.603774</td>\n",
       "    </tr>\n",
       "    <tr>\n",
       "      <th>3</th>\n",
       "      <td>1.577333</td>\n",
       "      <td>1.913000</td>\n",
       "      <td>6</td>\n",
       "      <td>0.136364</td>\n",
       "      <td>1.745167</td>\n",
       "      <td>17.874876</td>\n",
       "    </tr>\n",
       "  </tbody>\n",
       "</table>\n",
       "</div>"
      ],
      "text/plain": [
       "   Левая граница  Правая граница  Частоты  Относительные частоты  \\\n",
       "0      -0.101000        0.906000        7               0.159091   \n",
       "1       0.906000        1.241667       12               0.272727   \n",
       "2       1.241667        1.577333       19               0.431818   \n",
       "3       1.577333        1.913000        6               0.136364   \n",
       "\n",
       "   Среднее значение  Плотность  \n",
       "0          0.402500  20.854022  \n",
       "1          1.073833  35.749752  \n",
       "2          1.409500  56.603774  \n",
       "3          1.745167  17.874876  "
      ]
     },
     "execution_count": 78,
     "metadata": {},
     "output_type": "execute_result"
    }
   ],
   "source": [
    "# Получаем булевский столбец\n",
    "condition = df[\"Частоты\"] > 5\n",
    "\n",
    "df = df.groupby(condition.cumsum(), as_index=False).agg({\n",
    "    \"Левая граница\": min, \"Правая граница\": max,\n",
    "    \"Частоты\": sum, \"Относительные частоты\": sum, \n",
    "    \"Среднее значение\": np.mean, \"Плотность\": sum\n",
    "})\n",
    "df"
   ]
  },
  {
   "cell_type": "code",
   "execution_count": 79,
   "metadata": {},
   "outputs": [
    {
     "data": {
      "text/html": [
       "<div>\n",
       "<style scoped>\n",
       "    .dataframe tbody tr th:only-of-type {\n",
       "        vertical-align: middle;\n",
       "    }\n",
       "\n",
       "    .dataframe tbody tr th {\n",
       "        vertical-align: top;\n",
       "    }\n",
       "\n",
       "    .dataframe thead th {\n",
       "        text-align: right;\n",
       "    }\n",
       "</style>\n",
       "<table border=\"1\" class=\"dataframe\">\n",
       "  <thead>\n",
       "    <tr style=\"text-align: right;\">\n",
       "      <th></th>\n",
       "      <th>Левая граница</th>\n",
       "      <th>Правая граница</th>\n",
       "      <th>Частоты</th>\n",
       "      <th>Относительные частоты</th>\n",
       "      <th>Среднее значение</th>\n",
       "      <th>Плотность</th>\n",
       "      <th>x_left</th>\n",
       "      <th>x_right</th>\n",
       "    </tr>\n",
       "  </thead>\n",
       "  <tbody>\n",
       "    <tr>\n",
       "      <th>0</th>\n",
       "      <td>-0.101000</td>\n",
       "      <td>0.906000</td>\n",
       "      <td>7</td>\n",
       "      <td>0.159091</td>\n",
       "      <td>0.402500</td>\n",
       "      <td>20.854022</td>\n",
       "      <td>-2.902718</td>\n",
       "      <td>-0.648843</td>\n",
       "    </tr>\n",
       "    <tr>\n",
       "      <th>1</th>\n",
       "      <td>0.906000</td>\n",
       "      <td>1.241667</td>\n",
       "      <td>12</td>\n",
       "      <td>0.272727</td>\n",
       "      <td>1.073833</td>\n",
       "      <td>35.749752</td>\n",
       "      <td>-0.648843</td>\n",
       "      <td>0.102449</td>\n",
       "    </tr>\n",
       "    <tr>\n",
       "      <th>2</th>\n",
       "      <td>1.241667</td>\n",
       "      <td>1.577333</td>\n",
       "      <td>19</td>\n",
       "      <td>0.431818</td>\n",
       "      <td>1.409500</td>\n",
       "      <td>56.603774</td>\n",
       "      <td>0.102449</td>\n",
       "      <td>0.853741</td>\n",
       "    </tr>\n",
       "    <tr>\n",
       "      <th>3</th>\n",
       "      <td>1.577333</td>\n",
       "      <td>1.913000</td>\n",
       "      <td>6</td>\n",
       "      <td>0.136364</td>\n",
       "      <td>1.745167</td>\n",
       "      <td>17.874876</td>\n",
       "      <td>0.853741</td>\n",
       "      <td>1.605032</td>\n",
       "    </tr>\n",
       "  </tbody>\n",
       "</table>\n",
       "</div>"
      ],
      "text/plain": [
       "   Левая граница  Правая граница  Частоты  Относительные частоты  \\\n",
       "0      -0.101000        0.906000        7               0.159091   \n",
       "1       0.906000        1.241667       12               0.272727   \n",
       "2       1.241667        1.577333       19               0.431818   \n",
       "3       1.577333        1.913000        6               0.136364   \n",
       "\n",
       "   Среднее значение  Плотность    x_left   x_right  \n",
       "0          0.402500  20.854022 -2.902718 -0.648843  \n",
       "1          1.073833  35.749752 -0.648843  0.102449  \n",
       "2          1.409500  56.603774  0.102449  0.853741  \n",
       "3          1.745167  17.874876  0.853741  1.605032  "
      ]
     },
     "execution_count": 79,
     "metadata": {},
     "output_type": "execute_result"
    }
   ],
   "source": [
    "def getNormalizedData(data, expected_value, std_eviation):\n",
    "    return [(val - expected_value) / std_eviation for val in data]\n",
    "\n",
    "df[\"x_left\"] = getNormalizedData(df[\"Левая граница\"], expected_value, std_deviation)\n",
    "df[\"x_right\"] = getNormalizedData(df[\"Правая граница\"], expected_value, std_deviation)\n",
    "df"
   ]
  },
  {
   "cell_type": "code",
   "execution_count": 80,
   "metadata": {},
   "outputs": [
    {
     "data": {
      "text/html": [
       "<div>\n",
       "<style scoped>\n",
       "    .dataframe tbody tr th:only-of-type {\n",
       "        vertical-align: middle;\n",
       "    }\n",
       "\n",
       "    .dataframe tbody tr th {\n",
       "        vertical-align: top;\n",
       "    }\n",
       "\n",
       "    .dataframe thead th {\n",
       "        text-align: right;\n",
       "    }\n",
       "</style>\n",
       "<table border=\"1\" class=\"dataframe\">\n",
       "  <thead>\n",
       "    <tr style=\"text-align: right;\">\n",
       "      <th></th>\n",
       "      <th>Левая граница</th>\n",
       "      <th>Правая граница</th>\n",
       "      <th>Частоты</th>\n",
       "      <th>Относительные частоты</th>\n",
       "      <th>Среднее значение</th>\n",
       "      <th>Плотность</th>\n",
       "      <th>x_left</th>\n",
       "      <th>x_right</th>\n",
       "      <th>Ф_left</th>\n",
       "      <th>Ф_right</th>\n",
       "      <th>p_i</th>\n",
       "      <th>np_i</th>\n",
       "      <th>n_i - np_i</th>\n",
       "      <th>(n_i - np_i) ^ 2 / (np_i)</th>\n",
       "    </tr>\n",
       "  </thead>\n",
       "  <tbody>\n",
       "    <tr>\n",
       "      <th>0</th>\n",
       "      <td>-0.101000</td>\n",
       "      <td>0.906000</td>\n",
       "      <td>7</td>\n",
       "      <td>0.159091</td>\n",
       "      <td>0.402500</td>\n",
       "      <td>20.854022</td>\n",
       "      <td>-2.902718</td>\n",
       "      <td>-0.648843</td>\n",
       "      <td>-0.498150</td>\n",
       "      <td>-0.241780</td>\n",
       "      <td>0.256370</td>\n",
       "      <td>11.280293</td>\n",
       "      <td>-4.280293</td>\n",
       "      <td>1.624152</td>\n",
       "    </tr>\n",
       "    <tr>\n",
       "      <th>1</th>\n",
       "      <td>0.906000</td>\n",
       "      <td>1.241667</td>\n",
       "      <td>12</td>\n",
       "      <td>0.272727</td>\n",
       "      <td>1.073833</td>\n",
       "      <td>35.749752</td>\n",
       "      <td>-0.648843</td>\n",
       "      <td>0.102449</td>\n",
       "      <td>-0.241780</td>\n",
       "      <td>0.040800</td>\n",
       "      <td>0.282580</td>\n",
       "      <td>12.433511</td>\n",
       "      <td>-0.433511</td>\n",
       "      <td>0.015115</td>\n",
       "    </tr>\n",
       "    <tr>\n",
       "      <th>2</th>\n",
       "      <td>1.241667</td>\n",
       "      <td>1.577333</td>\n",
       "      <td>19</td>\n",
       "      <td>0.431818</td>\n",
       "      <td>1.409500</td>\n",
       "      <td>56.603774</td>\n",
       "      <td>0.102449</td>\n",
       "      <td>0.853741</td>\n",
       "      <td>0.040800</td>\n",
       "      <td>0.303376</td>\n",
       "      <td>0.262576</td>\n",
       "      <td>11.553336</td>\n",
       "      <td>7.446664</td>\n",
       "      <td>4.799723</td>\n",
       "    </tr>\n",
       "    <tr>\n",
       "      <th>3</th>\n",
       "      <td>1.577333</td>\n",
       "      <td>1.913000</td>\n",
       "      <td>6</td>\n",
       "      <td>0.136364</td>\n",
       "      <td>1.745167</td>\n",
       "      <td>17.874876</td>\n",
       "      <td>0.853741</td>\n",
       "      <td>1.605032</td>\n",
       "      <td>0.303376</td>\n",
       "      <td>0.445757</td>\n",
       "      <td>0.142381</td>\n",
       "      <td>6.264765</td>\n",
       "      <td>-0.264765</td>\n",
       "      <td>0.011190</td>\n",
       "    </tr>\n",
       "  </tbody>\n",
       "</table>\n",
       "</div>"
      ],
      "text/plain": [
       "   Левая граница  Правая граница  Частоты  Относительные частоты  \\\n",
       "0      -0.101000        0.906000        7               0.159091   \n",
       "1       0.906000        1.241667       12               0.272727   \n",
       "2       1.241667        1.577333       19               0.431818   \n",
       "3       1.577333        1.913000        6               0.136364   \n",
       "\n",
       "   Среднее значение  Плотность    x_left   x_right    Ф_left   Ф_right  \\\n",
       "0          0.402500  20.854022 -2.902718 -0.648843 -0.498150 -0.241780   \n",
       "1          1.073833  35.749752 -0.648843  0.102449 -0.241780  0.040800   \n",
       "2          1.409500  56.603774  0.102449  0.853741  0.040800  0.303376   \n",
       "3          1.745167  17.874876  0.853741  1.605032  0.303376  0.445757   \n",
       "\n",
       "        p_i       np_i  n_i - np_i  (n_i - np_i) ^ 2 / (np_i)  \n",
       "0  0.256370  11.280293   -4.280293                   1.624152  \n",
       "1  0.282580  12.433511   -0.433511                   0.015115  \n",
       "2  0.262576  11.553336    7.446664                   4.799723  \n",
       "3  0.142381   6.264765   -0.264765                   0.011190  "
      ]
     },
     "execution_count": 80,
     "metadata": {},
     "output_type": "execute_result"
    }
   ],
   "source": [
    "def getLaplaceValues(data):\n",
    "    return [norm.cdf(val) - 0.5 for val in data]\n",
    "\n",
    "df[\"Ф_left\"] = getLaplaceValues(df[\"x_left\"])\n",
    "df[\"Ф_right\"] = getLaplaceValues(df[\"x_right\"])\n",
    "df[\"p_i\"] = df[\"Ф_right\"] - df[\"Ф_left\"]\n",
    "df[\"np_i\"] = df[\"p_i\"] * n\n",
    "df[\"n_i - np_i\"] = df[\"Частоты\"] - df[\"np_i\"]\n",
    "df[\"(n_i - np_i) ^ 2 / (np_i)\"] = df[\"n_i - np_i\"] ** 2 / df[\"np_i\"]\n",
    "\n",
    "df"
   ]
  },
  {
   "cell_type": "code",
   "execution_count": 81,
   "metadata": {},
   "outputs": [
    {
     "name": "stdout",
     "output_type": "stream",
     "text": [
      "Result: 6.450179516838077\n",
      "Expected: 3.8\n"
     ]
    }
   ],
   "source": [
    "expected_result = 3.8\n",
    "print(\"Result: {}\".format(sum(df[\"(n_i - np_i) ^ 2 / (np_i)\"])))\n",
    "print(f\"Expected: {expected_result}\")"
   ]
  },
  {
   "cell_type": "code",
   "execution_count": 82,
   "metadata": {},
   "outputs": [
    {
     "data": {
      "image/png": "[encoded data removed]",
      "text/plain": [
       "<Figure size 432x288 with 1 Axes>"
      ]
     },
     "metadata": {
      "needs_background": "light"
     },
     "output_type": "display_data"
    }
   ],
   "source": [
    "fig, ax = plt.subplots()\n",
    "x = np.linspace(norm.ppf(0.01), norm.ppf(0.99999999999), 1000)\n",
    "y = (x - expected_value) / std_deviation\n",
    "ax.bar(df[\"Среднее значение\"], df[\"Плотность\"]*0.007)\n",
    "ax.plot(x, norm.pdf(y), \"r\", lw = 5)\n",
    "plt.show()"
   ]
  },
  {
   "cell_type": "code",
   "execution_count": 83,
   "metadata": {},
   "outputs": [],
   "source": [
    "alpha = 0.05\n",
    "beta = 1 - alpha"
   ]
  },
  {
   "cell_type": "code",
   "execution_count": 84,
   "metadata": {},
   "outputs": [
    {
     "name": "stdout",
     "output_type": "stream",
     "text": [
      "0.03162822471197791\n"
     ]
    }
   ],
   "source": [
    "t = 0.475\n",
    "sigma = t * np.sqrt(dispersion / n)\n",
    "print(sigma)"
   ]
  },
  {
   "cell_type": "code",
   "execution_count": 85,
   "metadata": {},
   "outputs": [
    {
     "name": "stdout",
     "output_type": "stream",
     "text": [
      "1.1642657146819617 < a < 1.2275221641059175\n"
     ]
    }
   ],
   "source": [
    "print(f\"{expected_value - sigma} < a < {expected_value + sigma}\")"
   ]
  },
  {
   "cell_type": "code",
   "execution_count": 86,
   "metadata": {},
   "outputs": [
    {
     "name": "stdout",
     "output_type": "stream",
     "text": [
      "0.34849315920257856 < d < 0.5450790438809562\n"
     ]
    }
   ],
   "source": [
    "q = 0.22\n",
    "print(f\"{std_deviation * (1 - q)} < d < {std_deviation * (1 + q)}\")"
   ]
  },
  {
   "cell_type": "code",
   "execution_count": null,
   "metadata": {},
   "outputs": [],
   "source": []
  }
 ],
 "metadata": {
  "kernelspec": {
   "display_name": "Python 3",
   "language": "python",
   "name": "python3"
  },
  "language_info": {
   "codemirror_mode": {
    "name": "ipython",
    "version": 3
   },
   "file_extension": ".py",
   "mimetype": "text/x-python",
   "name": "python",
   "nbconvert_exporter": "python",
   "pygments_lexer": "ipython3",
   "version": "3.8.6"
  }
 },
 "nbformat": 4,
 "nbformat_minor": 4
}
